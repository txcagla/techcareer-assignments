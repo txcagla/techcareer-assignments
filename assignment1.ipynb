{
  "nbformat": 4,
  "nbformat_minor": 0,
  "metadata": {
    "colab": {
      "provenance": [],
      "authorship_tag": "ABX9TyN8ZpT91WmzraOMMSgE3tOb",
      "include_colab_link": true
    },
    "kernelspec": {
      "name": "python3",
      "display_name": "Python 3"
    },
    "language_info": {
      "name": "python"
    }
  },
  "cells": [
    {
      "cell_type": "markdown",
      "metadata": {
        "id": "view-in-github",
        "colab_type": "text"
      },
      "source": [
        "<a href=\"https://colab.research.google.com/github/txcagla/techcareer-assignments/blob/main/assignment1.ipynb\" target=\"_parent\"><img src=\"https://colab.research.google.com/assets/colab-badge.svg\" alt=\"Open In Colab\"/></a>"
      ]
    },
    {
      "cell_type": "markdown",
      "source": [
        "Bölüm 1: Veri Tipleri"
      ],
      "metadata": {
        "id": "RZoR4Tq-mIol"
      }
    },
    {
      "cell_type": "code",
      "execution_count": null,
      "metadata": {
        "colab": {
          "base_uri": "https://localhost:8080/"
        },
        "id": "xpdE0-aIl70v",
        "outputId": "d4c1df34-b7d4-4f83-c592-a23020ec6e42"
      },
      "outputs": [
        {
          "output_type": "stream",
          "name": "stdout",
          "text": [
            "Adınızı giriniz:Çağla\n",
            "Yaşınızı giriniz:22\n",
            "Boyunuzu giriniz: 172\n",
            "Çağla adlı kişinin yaşı 22 ve boyu 172.0.\n"
          ]
        }
      ],
      "source": [
        "# Soru 1: Kullanıcıdan adını, yaşını ve boyunu (float) input() ile alınız. Bu bilgileri uygun veri tiplerinde değişkenlerde saklayınız ve ekrana anlamlı bir şekilde yazdırınız.\n",
        "name = input('Adınızı giriniz: ')\n",
        "age = input('Yaşınızı giriniz: ')\n",
        "height = float(input('Boyunuzu giriniz: '))\n",
        "\n",
        "print(f\"{name} adlı kişinin yaşı {age} ve boyu {height}\")"
      ]
    },
    {
      "cell_type": "code",
      "source": [
        "# Soru 2: Bir öğrencinin notlarını (Matematik, Fizik, Kimya) int tipinde değişkenlere atayın. Ortalamasını float tipinde hesaplayıp ekrana yazdırınız.\n",
        "math_grade = int(input('Matematik notunuz: '))\n",
        "phy_grade = int(input('Fizik notunuz: '))\n",
        "chem_grade = int(input('Kimya notunuz: '))\n",
        "avg = float((math_grade + phy_grade + chem_grade) / 3)\n",
        "\n",
        "print('Ortlamanız: ', avg)"
      ],
      "metadata": {
        "colab": {
          "base_uri": "https://localhost:8080/"
        },
        "id": "aSz1QsAmnvox",
        "outputId": "c3c76003-728a-4262-af1e-619452ce4a8a"
      },
      "execution_count": null,
      "outputs": [
        {
          "output_type": "stream",
          "name": "stdout",
          "text": [
            "Matematik notunuz: 80\n",
            "Fizik notunuz: 90\n",
            "Kimya notunuz: 83\n",
            "Ortlamanız:  84.33333333333333\n"
          ]
        }
      ]
    },
    {
      "cell_type": "code",
      "source": [
        "# Soru 3: Bir string değişkeni tanımlayın. Bu stringin ilk ve son karakterini, uzunluğunu ve ters çevrilmiş halini ekrana yazdırınız.\n",
        "message = \"Veri bilimine giriş etkinliğinin ilk hafta ödevi\"\n",
        "print(message[0])\n",
        "print(message[-1])\n",
        "print(len(message))\n",
        "print(message[::-1])"
      ],
      "metadata": {
        "colab": {
          "base_uri": "https://localhost:8080/"
        },
        "id": "wapJXuVdokcp",
        "outputId": "04777fd3-0b12-43d2-f086-3b5f9000d64a"
      },
      "execution_count": null,
      "outputs": [
        {
          "output_type": "stream",
          "name": "stdout",
          "text": [
            "V\n",
            "i\n",
            "48\n",
            "ivedö atfah kli niniğilnikte şirig enimilib ireV\n"
          ]
        }
      ]
    },
    {
      "cell_type": "markdown",
      "source": [
        "Bölüm 2: Operatörler"
      ],
      "metadata": {
        "id": "PPN1-nfPpmzZ"
      }
    },
    {
      "cell_type": "code",
      "source": [
        "# Soru 4: Kullanıcıdan iki sayı alınız. Bu sayılar üzerinde toplama, çıkarma, çarpma, bölme ve mod işlemleri yapınız.\n",
        "num1 = int(input('Birinci sayı: '))\n",
        "num2 = int(input('İkinci sayı: '))\n",
        "\n",
        "print('Toplama işleminin sonucu: ', num1 + num2)\n",
        "print('Çıkarma işleminin sonucu: ', num1 - num2)\n",
        "print('Çarpma işleminin sonucu: ', num1 * num2)\n",
        "print('Bölme işleminin sonucu: ', num1 / num2)\n",
        "print('Mod alma işleminin sonucu: ', num1 % num2)"
      ],
      "metadata": {
        "colab": {
          "base_uri": "https://localhost:8080/"
        },
        "id": "O7e6xYv_pna5",
        "outputId": "c6ea8ba9-1b87-48c0-f3a4-1e0c891092f7"
      },
      "execution_count": null,
      "outputs": [
        {
          "output_type": "stream",
          "name": "stdout",
          "text": [
            "Birinci sayı: 4\n",
            "İkinci sayı: 15\n",
            "Toplama işleminin sonucu:  19\n",
            "Çıkarma işleminin sonucu:  -11\n",
            "Çarpma işleminin sonucu:  60\n",
            "Bölme işleminin sonucu:  0.26666666666666666\n",
            "Mod alma işleminin sonucu:  4\n"
          ]
        }
      ]
    },
    {
      "cell_type": "code",
      "source": [
        "# Soru 5: Bir öğrencinin ortalaması 50’den büyükse 'Geçti', değilse 'Kaldı' çıktısını veren bir program yazınız. (Karşılaştırma ve mantıksal operatörler kullanılacak.)\n",
        "avg = float(input('Ortalamanızı giriniz: '))\n",
        "\n",
        "if avg > 50:\n",
        "  print('Geçti')\n",
        "else:\n",
        "  print('Kaldı')"
      ],
      "metadata": {
        "colab": {
          "base_uri": "https://localhost:8080/"
        },
        "id": "oF5GnJJ3qcs0",
        "outputId": "253cf394-9d56-4576-d615-5254984678ee"
      },
      "execution_count": null,
      "outputs": [
        {
          "output_type": "stream",
          "name": "stdout",
          "text": [
            "Ortalamanızı giriniz: 56\n",
            "Geçti\n"
          ]
        }
      ]
    },
    {
      "cell_type": "code",
      "source": [
        "# Soru 6: Kullanıcıdan yaşını alınız. Eğer yaş 18’den büyükse 'Ehliyet alabilirsiniz', değilse 'Ehliyet alamazsınız' çıktısı veriniz.\n",
        "age = int(input('Yaşınızı giriniz: '))\n",
        "if age > 18:\n",
        "  print('Ehliyet alabilirsiniz.')\n",
        "else:\n",
        "  print('Ehliyet alamazsınız.')"
      ],
      "metadata": {
        "colab": {
          "base_uri": "https://localhost:8080/"
        },
        "id": "Y9NP4pdrrC4R",
        "outputId": "829a821d-bff9-4b26-d8bd-80c3792815a6"
      },
      "execution_count": null,
      "outputs": [
        {
          "output_type": "stream",
          "name": "stdout",
          "text": [
            "Yaşınızı giriniz: 12\n",
            "Ehliyet alamazsınız.\n"
          ]
        }
      ]
    },
    {
      "cell_type": "code",
      "source": [
        "#Soru 7: Bir ürünün fiyatını (float) ve indirim oranını (yüzde) alınız. İndirimli fiyatı hesaplayıp ekrana yazdırınız. (Aritmetik operatörler kullanılacak.)\n",
        "price = float(input('Ürün fiyatını giriniz: '))\n",
        "discount_rate = float(input('İndirim oranını yüzde olarak giriniz: : '))\n",
        "new_price = price - (price * (discount_rate / 100))\n",
        "print('Ürünün indirimli fiyatı: ', new_price)"
      ],
      "metadata": {
        "colab": {
          "base_uri": "https://localhost:8080/"
        },
        "id": "zjfGQeLTrR4k",
        "outputId": "0eb66d22-071c-4e65-ecfa-2a75f73d9ac4"
      },
      "execution_count": null,
      "outputs": [
        {
          "output_type": "stream",
          "name": "stdout",
          "text": [
            "Ürün fiyatını giriniz: 100\n",
            "İndirim oranını yüzde olarak giriniz: : 25\n",
            "Ürünün indirimli fiyatı:  75.0\n"
          ]
        }
      ]
    },
    {
      "cell_type": "code",
      "source": [
        "# Soru 8: True ve False değerlerini içeren değişkenlerle mantıksal operatörleri (and, or, not) uygulayarak örnekler yapınız ve sonuçlarını ekrana yazdırınız.\n",
        "x = 3 < 5\n",
        "y = 2 > 0\n",
        "print(\"x'in doğruluk değeri: \", x)\n",
        "print(\"y'nin doğruluk değeri: \", y)\n",
        "print('x and y: ', x and y)\n",
        "print('x or y: ', x or y)\n",
        "print('not x: ', not x)\n",
        "print('not y: ', not y)\n",
        "\n",
        "\n",
        "a = 3 > 5\n",
        "b = 2 > 0\n",
        "print(\"a'nın doğruluk değeri: \", a)\n",
        "print(\"b'nin doğruluk değeri: \", b)\n",
        "print('a and b: ', a and b)\n",
        "print('a or b: ', a or b)\n",
        "print('not a: ', not a)\n",
        "print('not b: ', not b)"
      ],
      "metadata": {
        "colab": {
          "base_uri": "https://localhost:8080/"
        },
        "id": "3yGk7sSbsquH",
        "outputId": "e03c89cf-8dcc-4d67-9baa-39573c731421"
      },
      "execution_count": null,
      "outputs": [
        {
          "output_type": "stream",
          "name": "stdout",
          "text": [
            "x'in doğruluk değeri:  True\n",
            "y'nin doğruluk değeri:  True\n",
            "x and y:  True\n",
            "x or y:  True\n",
            "not x:  False\n",
            "not y:  False\n",
            "a'nın doğruluk değeri:  False\n",
            "b'nin doğruluk değeri:  True\n",
            "a and b:  False\n",
            "a or b:  True\n",
            "not a:  True\n",
            "not b:  False\n"
          ]
        }
      ]
    },
    {
      "cell_type": "markdown",
      "source": [
        "Bölüm 3: Mini Proje"
      ],
      "metadata": {
        "id": "ejfu3D5HtzhL"
      }
    },
    {
      "cell_type": "code",
      "source": [
        "\"\"\"\n",
        "Soru 9: Küçük bir alışveriş sepeti uygulaması yapınız:\n",
        "- Kullanıcıdan 3 ürünün fiyatını alınız.\n",
        "- Toplam fiyatı hesaplayınız.\n",
        "- Eğer toplam fiyat 200 TL’den fazlaysa %10 indirim uygulayınız.\n",
        "- Son fiyatı ekrana yazdırınız.\n",
        "\"\"\"\n",
        "\n",
        "price1 = int(input('Birinci ürünün fiyatı: '))\n",
        "price2 = int(input('İkinci ürünün fiyatı: '))\n",
        "price3 = int(input('Üçüncü ürünün fiyatı: '))\n",
        "total_price = price1 + price2 + price3\n",
        "\n",
        "if total_price > 200:\n",
        "  new_price = total_price - (total_price * 0.1)\n",
        "  print('Tebrikler indirimden yararlandınız. Ürünlerinizin toplam maliyeti: ', new_price)\n",
        "else:\n",
        "  print('ürünlerinizin toplam maliyeti: ', total_price)\n"
      ],
      "metadata": {
        "colab": {
          "base_uri": "https://localhost:8080/"
        },
        "id": "VUmMEsBxtz_W",
        "outputId": "6bb2c69b-2f44-4e58-b163-0a7fdd13723f"
      },
      "execution_count": null,
      "outputs": [
        {
          "output_type": "stream",
          "name": "stdout",
          "text": [
            "Birinci ürünün fiyatı: 50\n",
            "İkinci ürünün fiyatı: 100\n",
            "Üçüncü ürünün fiyatı: 150\n",
            "Tebrikler indirimden yararlandınız. Ürünlerinizin toplam maliyeti:  270.0\n"
          ]
        }
      ]
    },
    {
      "cell_type": "code",
      "source": [
        "\"\"\"\n",
        "Soru 10: Kullanıcıdan doğum yılını alınız. Bu yıl ile güncel yılı kullanarak yaşını hesaplayınız. Yaşına göre şu mesajlardan birini veriniz:\n",
        "- 0-12: 'Çocuksunuz'\n",
        "- 13-17: 'Ergensiniz'\n",
        "- 18 ve üzeri: 'Yetişkinsiniz'\n",
        "\"\"\"\n",
        "import datetime\n",
        "birth_year = int(input('Doğum yılınız: '))\n",
        "current_year = datetime.datetime.now().year\n",
        "age = current_year - birth_year\n",
        "\n",
        "if 0 <= age <= 12:\n",
        "  print('Çocuksunuz')\n",
        "elif 13 <= age <= 17:\n",
        "  print('Ergensiniz')\n",
        "else:\n",
        "  print('Yetişkinsiniz')"
      ],
      "metadata": {
        "colab": {
          "base_uri": "https://localhost:8080/"
        },
        "id": "lgC_J_jtu7nh",
        "outputId": "a977ba88-ae8e-4bd9-adc7-572d46e70167"
      },
      "execution_count": 1,
      "outputs": [
        {
          "output_type": "stream",
          "name": "stdout",
          "text": [
            "Doğum yılınız: 2010\n",
            "Ergensiniz\n"
          ]
        }
      ]
    }
  ]
}