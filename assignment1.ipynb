{
  "nbformat": 4,
  "nbformat_minor": 0,
  "metadata": {
    "colab": {
      "provenance": [],
      "authorship_tag": "ABX9TyMEfhxn/xIfMvqh+y8R/vI3",
      "include_colab_link": true
    },
    "kernelspec": {
      "name": "python3",
      "display_name": "Python 3"
    },
    "language_info": {
      "name": "python"
    }
  },
  "cells": [
    {
      "cell_type": "markdown",
      "metadata": {
        "id": "view-in-github",
        "colab_type": "text"
      },
      "source": [
        "<a href=\"https://colab.research.google.com/github/txcagla/techcareer-assignments/blob/main/assignment1.ipynb\" target=\"_parent\"><img src=\"https://colab.research.google.com/assets/colab-badge.svg\" alt=\"Open In Colab\"/></a>"
      ]
    },
    {
      "cell_type": "markdown",
      "source": [
        "Bölüm 1: Veri Tipleri"
      ],
      "metadata": {
        "id": "RZoR4Tq-mIol"
      }
    },
    {
      "cell_type": "code",
      "execution_count": 2,
      "metadata": {
        "id": "xpdE0-aIl70v",
        "colab": {
          "base_uri": "https://localhost:8080/"
        },
        "outputId": "7c4d0145-c63d-451e-e5fa-3f490d9b104f"
      },
      "outputs": [
        {
          "output_type": "stream",
          "name": "stdout",
          "text": [
            "Adınızı giriniz: Çağla\n",
            "Yaşınızı giriniz: 22\n",
            "Boyunuzu giriniz: 1.72\n",
            "Çağla adlı kişinin yaşı 22 ve boyu 1.72\n"
          ]
        }
      ],
      "source": [
        "# Soru 1: Kullanıcıdan adını, yaşını ve boyunu (float) input() ile alınız. Bu bilgileri uygun veri tiplerinde değişkenlerde saklayınız ve ekrana anlamlı bir şekilde yazdırınız.\n",
        "name = input('Adınızı giriniz: ')\n",
        "age = input('Yaşınızı giriniz: ')\n",
        "height = float(input('Boyunuzu giriniz: '))\n",
        "\n",
        "print(f\"{name} adlı kişinin yaşı {age} ve boyu {height}\")"
      ]
    },
    {
      "cell_type": "code",
      "source": [
        "# Soru 2: Bir öğrencinin notlarını (Matematik, Fizik, Kimya) int tipinde değişkenlere atayın. Ortalamasını float tipinde hesaplayıp ekrana yazdırınız.\n",
        "math_grade = int(input('Matematik notunuz: '))\n",
        "phy_grade = int(input('Fizik notunuz: '))\n",
        "chem_grade = int(input('Kimya notunuz: '))\n",
        "avg = float((math_grade + phy_grade + chem_grade) / 3)\n",
        "\n",
        "print('Ortalamanız: ', avg)"
      ],
      "metadata": {
        "id": "aSz1QsAmnvox",
        "colab": {
          "base_uri": "https://localhost:8080/"
        },
        "outputId": "e1c883a2-e45a-4683-e9f1-70da201a1ae5"
      },
      "execution_count": 3,
      "outputs": [
        {
          "output_type": "stream",
          "name": "stdout",
          "text": [
            "Matematik notunuz: 79\n",
            "Fizik notunuz: 85\n",
            "Kimya notunuz: 92\n",
            "Ortalamanız:  85.33333333333333\n"
          ]
        }
      ]
    },
    {
      "cell_type": "code",
      "source": [
        "# Soru 3: Bir string değişkeni tanımlayın. Bu stringin ilk ve son karakterini, uzunluğunu ve ters çevrilmiş halini ekrana yazdırınız.\n",
        "message = \"Veri bilimine giriş etkinliğinin ilk hafta ödevi\"\n",
        "print(message[0])\n",
        "print(message[-1])\n",
        "print(len(message))\n",
        "print(message[::-1])"
      ],
      "metadata": {
        "id": "wapJXuVdokcp",
        "colab": {
          "base_uri": "https://localhost:8080/"
        },
        "outputId": "30d6ed28-8a2a-46b9-fd04-1837e3246e9b"
      },
      "execution_count": 4,
      "outputs": [
        {
          "output_type": "stream",
          "name": "stdout",
          "text": [
            "V\n",
            "i\n",
            "48\n",
            "ivedö atfah kli niniğilnikte şirig enimilib ireV\n"
          ]
        }
      ]
    },
    {
      "cell_type": "markdown",
      "source": [
        "Bölüm 2: Operatörler"
      ],
      "metadata": {
        "id": "PPN1-nfPpmzZ"
      }
    },
    {
      "cell_type": "code",
      "source": [
        "# Soru 4: Kullanıcıdan iki sayı alınız. Bu sayılar üzerinde toplama, çıkarma, çarpma, bölme ve mod işlemleri yapınız.\n",
        "num1 = int(input('Birinci sayı: '))\n",
        "num2 = int(input('İkinci sayı: '))\n",
        "\n",
        "print('Toplama işleminin sonucu: ', num1 + num2)\n",
        "print('Çıkarma işleminin sonucu: ', num1 - num2)\n",
        "print('Çarpma işleminin sonucu: ', num1 * num2)\n",
        "print('Bölme işleminin sonucu: ', num1 / num2)\n",
        "print('Mod alma işleminin sonucu: ', num1 % num2)"
      ],
      "metadata": {
        "id": "O7e6xYv_pna5",
        "colab": {
          "base_uri": "https://localhost:8080/"
        },
        "outputId": "55850ac4-d608-410f-8df4-460729e8f103"
      },
      "execution_count": 5,
      "outputs": [
        {
          "output_type": "stream",
          "name": "stdout",
          "text": [
            "Birinci sayı: 25\n",
            "İkinci sayı: 15\n",
            "Toplama işleminin sonucu:  40\n",
            "Çıkarma işleminin sonucu:  10\n",
            "Çarpma işleminin sonucu:  375\n",
            "Bölme işleminin sonucu:  1.6666666666666667\n",
            "Mod alma işleminin sonucu:  10\n"
          ]
        }
      ]
    },
    {
      "cell_type": "code",
      "source": [
        "# Soru 5: Bir öğrencinin ortalaması 50’den büyükse 'Geçti', değilse 'Kaldı' çıktısını veren bir program yazınız. (Karşılaştırma ve mantıksal operatörler kullanılacak.)\n",
        "avg = float(input('Ortalamanızı giriniz: '))\n",
        "\n",
        "if avg > 50:\n",
        "  print('Geçti')\n",
        "else:\n",
        "  print('Kaldı')"
      ],
      "metadata": {
        "id": "oF5GnJJ3qcs0",
        "colab": {
          "base_uri": "https://localhost:8080/"
        },
        "outputId": "2812abf5-1597-4469-b9c5-99b5db66b6ec"
      },
      "execution_count": 6,
      "outputs": [
        {
          "output_type": "stream",
          "name": "stdout",
          "text": [
            "Ortalamanızı giriniz: 63\n",
            "Geçti\n"
          ]
        }
      ]
    },
    {
      "cell_type": "code",
      "source": [
        "# Soru 6: Kullanıcıdan yaşını alınız. Eğer yaş 18’den büyükse 'Ehliyet alabilirsiniz', değilse 'Ehliyet alamazsınız' çıktısı veriniz.\n",
        "age = int(input('Yaşınızı giriniz: '))\n",
        "if age > 18:\n",
        "  print('Ehliyet alabilirsiniz.')\n",
        "else:\n",
        "  print('Ehliyet alamazsınız.')"
      ],
      "metadata": {
        "id": "Y9NP4pdrrC4R",
        "colab": {
          "base_uri": "https://localhost:8080/"
        },
        "outputId": "4a77fef2-8443-4c65-b722-69bab08bb28e"
      },
      "execution_count": 7,
      "outputs": [
        {
          "output_type": "stream",
          "name": "stdout",
          "text": [
            "Yaşınızı giriniz: 22\n",
            "Ehliyet alabilirsiniz.\n"
          ]
        }
      ]
    },
    {
      "cell_type": "code",
      "source": [
        "#Soru 7: Bir ürünün fiyatını (float) ve indirim oranını (yüzde) alınız. İndirimli fiyatı hesaplayıp ekrana yazdırınız. (Aritmetik operatörler kullanılacak.)\n",
        "price = float(input('Ürün fiyatını giriniz: '))\n",
        "discount_rate = float(input('İndirim oranını yüzde olarak giriniz: : '))\n",
        "new_price = price - (price * (discount_rate / 100))\n",
        "print('Ürünün indirimli fiyatı: ', new_price)"
      ],
      "metadata": {
        "id": "zjfGQeLTrR4k",
        "colab": {
          "base_uri": "https://localhost:8080/"
        },
        "outputId": "3f859411-554b-4ee3-ef3f-3df1d980bfa1"
      },
      "execution_count": 8,
      "outputs": [
        {
          "output_type": "stream",
          "name": "stdout",
          "text": [
            "Ürün fiyatını giriniz: 200\n",
            "İndirim oranını yüzde olarak giriniz: : 30\n",
            "Ürünün indirimli fiyatı:  140.0\n"
          ]
        }
      ]
    },
    {
      "cell_type": "code",
      "source": [
        "# Soru 8: True ve False değerlerini içeren değişkenlerle mantıksal operatörleri (and, or, not) uygulayarak örnekler yapınız ve sonuçlarını ekrana yazdırınız.\n",
        "x = 3 < 5\n",
        "y = 2 > 0\n",
        "print(\"x'in doğruluk değeri: \", x)\n",
        "print(\"y'nin doğruluk değeri: \", y)\n",
        "print('x and y: ', x and y)\n",
        "print('x or y: ', x or y)\n",
        "print('not x: ', not x)\n",
        "print('not y: ', not y)\n",
        "\n",
        "\n",
        "a = 3 > 5\n",
        "b = 2 > 0\n",
        "print(\"a'nın doğruluk değeri: \", a)\n",
        "print(\"b'nin doğruluk değeri: \", b)\n",
        "print('a and b: ', a and b)\n",
        "print('a or b: ', a or b)\n",
        "print('not a: ', not a)\n",
        "print('not b: ', not b)"
      ],
      "metadata": {
        "id": "3yGk7sSbsquH",
        "colab": {
          "base_uri": "https://localhost:8080/"
        },
        "outputId": "269810a1-764b-4fa2-b143-87b91bedd2c9"
      },
      "execution_count": 9,
      "outputs": [
        {
          "output_type": "stream",
          "name": "stdout",
          "text": [
            "x'in doğruluk değeri:  True\n",
            "y'nin doğruluk değeri:  True\n",
            "x and y:  True\n",
            "x or y:  True\n",
            "not x:  False\n",
            "not y:  False\n",
            "a'nın doğruluk değeri:  False\n",
            "b'nin doğruluk değeri:  True\n",
            "a and b:  False\n",
            "a or b:  True\n",
            "not a:  True\n",
            "not b:  False\n"
          ]
        }
      ]
    },
    {
      "cell_type": "markdown",
      "source": [
        "Bölüm 3: Mini Proje"
      ],
      "metadata": {
        "id": "ejfu3D5HtzhL"
      }
    },
    {
      "cell_type": "code",
      "source": [
        "\"\"\"\n",
        "Soru 9: Küçük bir alışveriş sepeti uygulaması yapınız:\n",
        "- Kullanıcıdan 3 ürünün fiyatını alınız.\n",
        "- Toplam fiyatı hesaplayınız.\n",
        "- Eğer toplam fiyat 200 TL’den fazlaysa %10 indirim uygulayınız.\n",
        "- Son fiyatı ekrana yazdırınız.\n",
        "\"\"\"\n",
        "\n",
        "price1 = int(input('Birinci ürünün fiyatı: '))\n",
        "price2 = int(input('İkinci ürünün fiyatı: '))\n",
        "price3 = int(input('Üçüncü ürünün fiyatı: '))\n",
        "total_price = price1 + price2 + price3\n",
        "\n",
        "if total_price > 200:\n",
        "  new_price = total_price - (total_price * 0.1)\n",
        "  print('Tebrikler indirimden yararlandınız. Ürünlerinizin toplam maliyeti: ', new_price)\n",
        "else:\n",
        "  print('ürünlerinizin toplam maliyeti: ', total_price)\n"
      ],
      "metadata": {
        "colab": {
          "base_uri": "https://localhost:8080/"
        },
        "id": "VUmMEsBxtz_W",
        "outputId": "9b232fab-a085-454c-8657-413cb1da00ca"
      },
      "execution_count": 10,
      "outputs": [
        {
          "output_type": "stream",
          "name": "stdout",
          "text": [
            "Birinci ürünün fiyatı: 250\n",
            "İkinci ürünün fiyatı: 300\n",
            "Üçüncü ürünün fiyatı: 75\n",
            "Tebrikler indirimden yararlandınız. Ürünlerinizin toplam maliyeti:  562.5\n"
          ]
        }
      ]
    },
    {
      "cell_type": "code",
      "source": [
        "\"\"\"\n",
        "Soru 10: Kullanıcıdan doğum yılını alınız. Bu yıl ile güncel yılı kullanarak yaşını hesaplayınız. Yaşına göre şu mesajlardan birini veriniz:\n",
        "- 0-12: 'Çocuksunuz'\n",
        "- 13-17: 'Ergensiniz'\n",
        "- 18 ve üzeri: 'Yetişkinsiniz'\n",
        "\"\"\"\n",
        "import datetime\n",
        "birth_year = int(input('Doğum yılınız: '))\n",
        "current_year = datetime.datetime.now().year\n",
        "age = current_year - birth_year\n",
        "\n",
        "if 0 <= age <= 12:\n",
        "  print('Çocuksunuz')\n",
        "elif 13 <= age <= 17:\n",
        "  print('Ergensiniz')\n",
        "else:\n",
        "  print('Yetişkinsiniz')"
      ],
      "metadata": {
        "colab": {
          "base_uri": "https://localhost:8080/"
        },
        "id": "lgC_J_jtu7nh",
        "outputId": "b2eebf64-e646-43bb-9793-e4521515ccb7"
      },
      "execution_count": 11,
      "outputs": [
        {
          "output_type": "stream",
          "name": "stdout",
          "text": [
            "Doğum yılınız: 2003\n",
            "Yetişkinsiniz\n"
          ]
        }
      ]
    }
  ]
}