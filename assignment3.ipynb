{
  "nbformat": 4,
  "nbformat_minor": 0,
  "metadata": {
    "colab": {
      "provenance": [],
      "authorship_tag": "ABX9TyPV8V9tR1ojsVPHREcFdSWm",
      "include_colab_link": true
    },
    "kernelspec": {
      "name": "python3",
      "display_name": "Python 3"
    },
    "language_info": {
      "name": "python"
    }
  },
  "cells": [
    {
      "cell_type": "markdown",
      "metadata": {
        "id": "view-in-github",
        "colab_type": "text"
      },
      "source": [
        "<a href=\"https://colab.research.google.com/github/txcagla/techcareer-assignments/blob/main/assignment3.ipynb\" target=\"_parent\"><img src=\"https://colab.research.google.com/assets/colab-badge.svg\" alt=\"Open In Colab\"/></a>"
      ]
    },
    {
      "cell_type": "markdown",
      "source": [
        "Soru 1 – Liste Metotları\n",
        "\n",
        "Bir sınıfta öğrencilerin notları şu şekilde tutuluyor:\n",
        "\n",
        "notlar = [85, 92, 76, 92, 100, 76, 85, 92]\n",
        "- Listedeki tekrar eden notları silip benzersiz bir liste oluşturun.\n",
        "- En yüksek ve en düşük notu bulun.\n",
        "- Notları küçükten büyüğe sıralayın."
      ],
      "metadata": {
        "id": "DPBHlb9v0kDr"
      }
    },
    {
      "cell_type": "code",
      "execution_count": 16,
      "metadata": {
        "colab": {
          "base_uri": "https://localhost:8080/"
        },
        "id": "S-QwPXtT0ZOz",
        "outputId": "3c4641f4-de63-46b7-da8d-15ca32e8a206"
      },
      "outputs": [
        {
          "output_type": "stream",
          "name": "stdout",
          "text": [
            "benzersiz notlar:  {100, 92, 85, 76}\n",
            "en yüksek not:  100\n",
            "en düşük not:  76\n",
            "sıralı notlar:  [76, 76, 85, 85, 92, 92, 92, 100]\n"
          ]
        }
      ],
      "source": [
        "notlar = [85, 92, 76, 92, 100, 76, 85, 92]\n",
        "\n",
        "# benzersiz liste oluşturma\n",
        "benzersiz_notlar = set(notlar)\n",
        "print(\"benzersiz notlar: \", benzersiz_notlar)\n",
        "\n",
        "# en yüksek ve en düşük notu bulma\n",
        "en_yuksek = max(notlar)\n",
        "en_dusuk = min(notlar)\n",
        "print(\"en yüksek not: \", en_yuksek)\n",
        "print(\"en düşük not: \", en_dusuk)\n",
        "\n",
        "# küçükten büyüğe sıralama\n",
        "sirali_notlar = sorted(notlar)\n",
        "print(\"sıralı notlar: \", sirali_notlar)\n"
      ]
    },
    {
      "cell_type": "markdown",
      "source": [
        "Soru 2 – Sayılar\n",
        "\n",
        "Bir sayının Armstrong sayısı olup olmadığını kontrol eden bir Python fonksiyonu yazın.\n",
        "\n",
        "Armstrong sayısı: Her basamağının küplerinin toplamı kendisine eşit olan sayılar.\n",
        "\n",
        "Örn: 153 → 1³+5³+3³ = 153"
      ],
      "metadata": {
        "id": "lxo3qtst1qd6"
      }
    },
    {
      "cell_type": "code",
      "source": [
        "def is_armstrong(num):\n",
        "\n",
        "    digits = str(num)\n",
        "\n",
        "    sum = 0\n",
        "    for digit in digits:\n",
        "        sum += int(digit) ** 3\n",
        "\n",
        "    if sum == num:\n",
        "        return True\n",
        "    else:\n",
        "        return False\n",
        "\n",
        "print(is_armstrong(153))"
      ],
      "metadata": {
        "colab": {
          "base_uri": "https://localhost:8080/"
        },
        "id": "YIEaDW-v1tlW",
        "outputId": "12c70ad3-2b7e-47cd-a724-a27a793a0eb8"
      },
      "execution_count": 17,
      "outputs": [
        {
          "output_type": "stream",
          "name": "stdout",
          "text": [
            "True\n"
          ]
        }
      ]
    },
    {
      "cell_type": "markdown",
      "source": [
        "Soru 3 – Kümeler\n",
        "\n",
        "Aşağıdaki iki küme verilmiştir:\n",
        "\n",
        "A = {\"Python\", \"R\", \"SQL\", \"Java\"}\n",
        "\n",
        "B = {\"C++\", \"Python\", \"JavaScript\", \"SQL\"}\n",
        "\n",
        "- Ortak dilleri bulun.\n",
        "- Sadece A’da olan dilleri listeleyin.\n",
        "- İki kümenin birleşimini alfabetik olarak yazdırın."
      ],
      "metadata": {
        "id": "gCgrkyRk27tW"
      }
    },
    {
      "cell_type": "code",
      "source": [
        "A = {\"Python\", \"R\", \"SQL\", \"Java\"}\n",
        "B = {\"C++\", \"Python\", \"JavaScript\", \"SQL\"}\n",
        "\n",
        "# ortak dilleri yazdırma\n",
        "common = A & B\n",
        "print(\"ortak diller: \", common)\n",
        "\n",
        "# sadece A kümesinde olan dilleri yazdırma\n",
        "only_A = A - B\n",
        "print(\"sadece A kümesinde olan diller: \", only_A)\n",
        "\n",
        "# iki kümenin birleşimini yazdırma\n",
        "sets_union = sorted(A | B)\n",
        "print(\"iki kümenin alfabetik birleşimi: \", sets_union)\n"
      ],
      "metadata": {
        "colab": {
          "base_uri": "https://localhost:8080/"
        },
        "id": "r4ZKyhoa26dG",
        "outputId": "804748f4-e5f4-4d64-9a8c-05e2f0372807"
      },
      "execution_count": 18,
      "outputs": [
        {
          "output_type": "stream",
          "name": "stdout",
          "text": [
            "ortak diller:  {'Python', 'SQL'}\n",
            "sadece A kümesinde olan diller:  {'R', 'Java'}\n",
            "iki kümenin alfabetik birleşimi:  ['C++', 'Java', 'JavaScript', 'Python', 'R', 'SQL']\n"
          ]
        }
      ]
    },
    {
      "cell_type": "markdown",
      "source": [
        "Soru 4 – Modüller\n",
        "\n",
        "- random modülünü kullanarak 1–100 arasında 10 rastgele sayı üretin.\n",
        "- Bu sayıların ortalamasını ve standart sapmasını statistics modülü ile hesaplayın."
      ],
      "metadata": {
        "id": "hPjsYCKy368u"
      }
    },
    {
      "cell_type": "code",
      "source": [
        "import random\n",
        "import statistics\n",
        "\n",
        "# 10 tane random sayı üretme\n",
        "numbers = [random.randint(1, 100) for _ in range(10)]\n",
        "print(\"random sayılar: \", numbers)\n",
        "\n",
        "# ortalamayı hesaplama\n",
        "mean_value = statistics.mean(numbers)\n",
        "print(\"ortalama: \", mean_value)\n",
        "\n",
        "# standart sapmayı hesaplama\n",
        "std_dev = statistics.stdev(numbers)\n",
        "print(\"standart sapma: \", std_dev)\n"
      ],
      "metadata": {
        "colab": {
          "base_uri": "https://localhost:8080/"
        },
        "id": "axa7yvEF3-Q0",
        "outputId": "f4fbf6cb-a607-4fd7-85a8-3490ec67095b"
      },
      "execution_count": 19,
      "outputs": [
        {
          "output_type": "stream",
          "name": "stdout",
          "text": [
            "random sayılar:  [85, 50, 9, 74, 46, 90, 74, 88, 19, 19]\n",
            "ortalama:  55.4\n",
            "standart sapma:  31.17762730620219\n"
          ]
        }
      ]
    },
    {
      "cell_type": "markdown",
      "source": [
        "Soru 5 – Fonksiyonlar\n",
        "\n",
        "kelime_sayacı(metin) adında bir fonksiyon yazın. Fonksiyon verilen metindeki:\n",
        "- toplam kelime sayısını\n",
        "- en uzun kelimeyi\n",
        "- en sık geçen kelimeyi döndürsün."
      ],
      "metadata": {
        "id": "u_GZdOk94iDG"
      }
    },
    {
      "cell_type": "code",
      "source": [
        "from collections import Counter\n",
        "\n",
        "def kelime_sayacı(metin):\n",
        "    kelimeler = metin.split()\n",
        "\n",
        "    # toplam kelime sayısı\n",
        "    toplam_kelime = len(kelimeler)\n",
        "\n",
        "    # en uzun kelime\n",
        "    en_uzun_kelime = max(kelimeler, key=len)\n",
        "\n",
        "    # en sık geçen kelime\n",
        "    kelime_frekans = Counter(kelimeler)\n",
        "    en_sik_kelime, frekans = kelime_frekans.most_common(1)[0]\n",
        "\n",
        "    return toplam_kelime, en_uzun_kelime, en_sik_kelime\n",
        "\n",
        "metin = \"Bugün hava çok güzel ve bugün tüm gün dışarda olmak istiyorum\"\n",
        "sonuc = kelime_sayacı(metin)\n",
        "\n",
        "print(\"toplam kelime sayısı: \", sonuc[0])\n",
        "print(\"en uzun kelime: \", sonuc[1])\n",
        "print(\"en sık geçen kelime: \", sonuc[2])\n"
      ],
      "metadata": {
        "colab": {
          "base_uri": "https://localhost:8080/"
        },
        "id": "1xuTU7qU4l06",
        "outputId": "e1808c96-0fb8-40f7-f569-b45f2c31ab64"
      },
      "execution_count": 20,
      "outputs": [
        {
          "output_type": "stream",
          "name": "stdout",
          "text": [
            "toplam kelime sayısı:  11\n",
            "en uzun kelime:  istiyorum\n",
            "en sık geçen kelime:  Bugün\n"
          ]
        }
      ]
    },
    {
      "cell_type": "markdown",
      "source": [
        "Soru 6 – Gömülü Fonksiyonlar\n",
        "\n",
        "Aşağıdaki liste için map, filter, sorted gibi gömülü fonksiyonları kullanarak:\n",
        "sayilar = [5, 12, 7, 18, 24, 3, 16]\n",
        "- Sadece çift sayıları filtreleyin.\n",
        "- Bu sayıların karelerini bulun.\n",
        "- Karelerini azalan sırada sıralayın."
      ],
      "metadata": {
        "id": "oE3lC1rG546m"
      }
    },
    {
      "cell_type": "code",
      "source": [
        "nums = [5, 12, 7, 18, 24, 3, 16]\n",
        "\n",
        "# çift sayıları filtrele\n",
        "even_nums = list(filter(lambda x: x % 2 == 0, nums))\n",
        "\n",
        "# karelerini bul\n",
        "squares = list(map(lambda x: x ** 2, even_nums))\n",
        "\n",
        "# azalan sırada sıralama\n",
        "sorted_squares = sorted(squares, reverse=True)\n",
        "\n",
        "print(\"çift sayılar:\", even_nums)\n",
        "print(\"kareleri:\", squares)\n",
        "print(\"azalan sırada kareler:\", sorted_squares)\n"
      ],
      "metadata": {
        "colab": {
          "base_uri": "https://localhost:8080/"
        },
        "id": "dB0Wq0l-59jF",
        "outputId": "39a329a8-fe61-4f03-e161-0ae4c7a5faf8"
      },
      "execution_count": 21,
      "outputs": [
        {
          "output_type": "stream",
          "name": "stdout",
          "text": [
            "çift sayılar: [12, 18, 24, 16]\n",
            "kareleri: [144, 324, 576, 256]\n",
            "azalan sırada kareler: [576, 324, 256, 144]\n"
          ]
        }
      ]
    },
    {
      "cell_type": "markdown",
      "source": [
        "Soru 7 – Lambda İfadeleri\n",
        "\n",
        "Aşağıdaki listeyi, her kelimenin uzunluğuna göre küçükten büyüğe sıralayın.\n",
        "\n",
        "kelimeler = [\"veri\", \"bilim\", \"analiz\", \"yapayzeka\", \"python\"]\n",
        "\n",
        "Bunu sorted + lambda ile yapın."
      ],
      "metadata": {
        "id": "SktrDmfY7lXI"
      }
    },
    {
      "cell_type": "code",
      "source": [
        "words = [\"veri\", \"bilim\", \"analiz\", \"yapayzeka\", \"python\"]\n",
        "\n",
        "sorted_words = sorted(words, key=lambda word: len(word))\n",
        "\n",
        "print(\"sıralı kelimeler:\", sorted_words)\n"
      ],
      "metadata": {
        "colab": {
          "base_uri": "https://localhost:8080/"
        },
        "id": "7TwIRQTA7nBy",
        "outputId": "88815b6a-603c-4ab2-cecc-694c379bb163"
      },
      "execution_count": 22,
      "outputs": [
        {
          "output_type": "stream",
          "name": "stdout",
          "text": [
            "sıralı kelimeler: ['veri', 'bilim', 'analiz', 'python', 'yapayzeka']\n"
          ]
        }
      ]
    },
    {
      "cell_type": "markdown",
      "source": [
        "Soru 8 – Metodlar\n",
        "\n",
        "\n",
        "Bir string içinde geçen tüm rakamları bulun ve bunların toplamını döndüren bir fonksiyon yazın.\n",
        "\n",
        "Örn: \"abc12def3\" → 12 + 3 = 15"
      ],
      "metadata": {
        "id": "3iTeU7go8KXk"
      }
    },
    {
      "cell_type": "code",
      "source": [
        "def digit_sum(text):\n",
        "    sum = 0\n",
        "    number = \"\"\n",
        "\n",
        "    for ch in text:\n",
        "        if ch.isdigit():\n",
        "            number += ch\n",
        "        else:\n",
        "            if number:\n",
        "                sum += int(number)\n",
        "                number = \"\"\n",
        "    if number:\n",
        "        sum += int(number)\n",
        "\n",
        "    return sum\n",
        "\n",
        "print(digit_sum(\"abc12def3\"))\n"
      ],
      "metadata": {
        "colab": {
          "base_uri": "https://localhost:8080/"
        },
        "id": "tKVyPgJJ8M_r",
        "outputId": "980f070d-3b69-4f4b-9c7a-defc5116ee9f"
      },
      "execution_count": 23,
      "outputs": [
        {
          "output_type": "stream",
          "name": "stdout",
          "text": [
            "15\n"
          ]
        }
      ]
    },
    {
      "cell_type": "markdown",
      "source": [
        "Soru 9 – (Ekstra) Numpy 1\n",
        "\n",
        "10 elemanlı bir numpy dizisi oluşturun.\n",
        "- Elemanlar 0–50 arasında rastgele sayılar olsun.\n",
        "- Dizinin ortalamasını, standart sapmasını ve en büyük değerini bulun."
      ],
      "metadata": {
        "id": "sOuqnTMyAQeD"
      }
    },
    {
      "cell_type": "code",
      "source": [
        "import numpy as np\n",
        "\n",
        "arr = np.random.randint(0, 51, 10)\n",
        "print(\"Array:\", arr)\n",
        "\n",
        "mean_value = np.mean(arr)\n",
        "print(\"ortalama:\", mean_value)\n",
        "\n",
        "std_dev = np.std(arr)\n",
        "print(\"standart sapma:\", std_dev)\n",
        "\n",
        "max_value = np.max(arr)\n",
        "print(\"en büyük değer:\", max_value)\n"
      ],
      "metadata": {
        "colab": {
          "base_uri": "https://localhost:8080/"
        },
        "id": "zdHGKvSXAPOr",
        "outputId": "a8c80665-e84a-4968-ec8f-a7347af4ba0c"
      },
      "execution_count": 24,
      "outputs": [
        {
          "output_type": "stream",
          "name": "stdout",
          "text": [
            "Array: [ 5 42 48 26  5 21  1 31 16 21]\n",
            "ortalama: 21.6\n",
            "standart sapma: 14.927826365549677\n",
            "en büyük değer: 48\n"
          ]
        }
      ]
    },
    {
      "cell_type": "markdown",
      "source": [
        "Soru 10 – (Ekstra) Numpy 2\n",
        "\n",
        "5x5 boyutunda rastgele 0–1 arasında değerlerden oluşan bir numpy matrisi üretin.\n",
        "- Her sütunun ortalamasını bulun.\n",
        "- 0.5’ten büyük olan değerleri 1, küçük eşit olanları 0 yaparak binary matris oluşturun."
      ],
      "metadata": {
        "id": "_XD3L7ogAo_N"
      }
    },
    {
      "cell_type": "code",
      "source": [
        "import numpy as np\n",
        "\n",
        "matrix = np.random.rand(5, 5)\n",
        "print(\"Original Matrix:\\n\", matrix)\n",
        "\n",
        "col_means = np.mean(matrix, axis=0)\n",
        "print(\"\\nColumn Means:\", col_means)\n",
        "\n",
        "binary_matrix = np.where(matrix > 0.5, 1, 0)\n",
        "print(\"\\nBinary Matrix:\\n\", binary_matrix)\n"
      ],
      "metadata": {
        "colab": {
          "base_uri": "https://localhost:8080/"
        },
        "id": "OvHZtdiAAr5V",
        "outputId": "752fd3ca-2773-4401-9a9f-fb5068b4e8e3"
      },
      "execution_count": 25,
      "outputs": [
        {
          "output_type": "stream",
          "name": "stdout",
          "text": [
            "Original Matrix:\n",
            " [[0.23915326 0.5569921  0.79414064 0.43278523 0.40604905]\n",
            " [0.66384843 0.97622322 0.69822294 0.6253177  0.44832366]\n",
            " [0.7196845  0.5148455  0.11628042 0.97590242 0.5488766 ]\n",
            " [0.05698112 0.27510699 0.62566253 0.42889361 0.75903629]\n",
            " [0.95475042 0.13919095 0.14592042 0.1812011  0.3423607 ]]\n",
            "\n",
            "Column Means: [0.52688354 0.49247175 0.47604539 0.52882001 0.50092926]\n",
            "\n",
            "Binary Matrix:\n",
            " [[0 1 1 0 0]\n",
            " [1 1 1 1 0]\n",
            " [1 1 0 1 1]\n",
            " [0 0 1 0 1]\n",
            " [1 0 0 0 0]]\n"
          ]
        }
      ]
    },
    {
      "cell_type": "markdown",
      "source": [
        "Proje – “Kitap Satış Analiz Sistemi”\n",
        "\n",
        "Bir yayınevinin farklı türlerde ve yazarlarda kitapları var. Örnek veri:\n",
        "\n",
        "kitaplar = [\n",
        "{\"isim\": \"Veri Bilimi 101\", \"yazar\": \"Ali\", \"tur\": \"Bilim\", \"satis\": 1200, \"yil\": 2021},\n",
        "\n",
        "{\"isim\": \"Python ile Yapay Zeka\", \"yazar\": \"Ayşe\", \"tur\": \"Bilim\", \"satis\": 950, \"yil\": 2020},\n",
        "\n",
        "{\"isim\": \"İstatistik Temelleri\", \"yazar\": \"Ali\", \"tur\": \"Akademik\", \"satis\": 700, \"yil\": 2019},\n",
        "\n",
        "{\"isim\": \"Makine Öğrenmesi\", \"yazar\": \"Can\", \"tur\": \"Bilim\", \"satis\": 1800, \"yil\": 2022},\n",
        "\n",
        "{\"isim\": \"Veri Görselleştirme\", \"yazar\": \"Deniz\", \"tur\": \"Sanat\", \"satis\": 400, \"yil\": 2018},\n",
        "\n",
        "{\"isim\": \"Matematiksel Modelleme\", \"yazar\": \"Ali\", \"tur\": \"Akademik\", \"satis\": 1500, \"yil\": 2021},\n",
        "\n",
        "{\"isim\": \"Bilgi Toplumu\", \"yazar\": \"Ayşe\", \"tur\": \"Sosyal\", \"satis\": 600, \"yil\": 2022}\n",
        "]\n",
        "\n",
        "\n",
        "Yapılması Gerekenler:\n",
        "1. Fonksiyon Yazma:\n",
        "- en_cok_satan(kitaplar) → En çok satan kitabın bilgilerini döndürsün.\n",
        "- yazar_satislari(kitaplar) → Her yazarın toplam satışını bir sözlük olarak döndürsün.\n",
        "2. Liste ve Küme İşlemleri:\n",
        "- Tüm kitap türlerini (tur) küme halinde çıkarın (tekrar eden türler olmadan).\n",
        "- Satış adedi 1000’den fazla olan kitapların isimlerini bir listede toplayın.\n",
        "3. Lambda / Filter / Map Kullanımı:\n",
        "- filter ile 2020’den sonra çıkan kitapları süzün.\n",
        "- map ile tüm satış adetlerini %10 artırılmış şekilde yeni bir listeye aktarın.\n",
        "- sorted + lambda ile kitapları satış miktarına göre azalan şekilde sıralayın.\n",
        "4. İstatistiksel Analiz:\n",
        "- Ortalama satış adedini bulun.\n",
        "- En çok satış yapan türü bulun.\n",
        "- Satışların standart sapmasını hesaplamak için statistics modülünü kullanın.\n",
        "5. Ekstra (Zorlayıcı): Train/Test Simülasyonu\n",
        "- Kitap listesini rastgele %70 eğitim (train), %30 test verisine ayırın (random.sample).\n",
        "- Eğitim verisinden yazarların ortalama satışını hesaplayın.\n",
        "- Test verisinde, hangi kitapların satışlarının bu ortalamanın üzerinde olduğunu kontrol edin.\n",
        "\n",
        "\n",
        "Beklenen Çıktı Örneği\n",
        "- En çok satan kitap: \"Makine Öğrenmesi\"\n",
        "- Yazar satışları: {\"Ali\": 3400, \"Ayşe\": 1550, \"Can\": 1800, \"Deniz\": 400}\n",
        "- Türler: {\"Bilim\", \"Akademik\", \"Sanat\", \"Sosyal\"}\n",
        "- 1000’den fazla satan kitaplar: [\"Veri Bilimi 101\", \"Makine Öğrenmesi\", \"Matematiksel Modelleme\"]\n",
        "- Ortalama satış: 1021.4\n",
        "- Standart sapma: ~480.2\n",
        "\n",
        "\n",
        "Eğitim/ Test ayırımı sonrası analiz:\n",
        "\n",
        "Analizde Sizden Beklenen:\n",
        "- Veriyi uygun oranlarda ayırın (örneğin %70 train, %30 test).\n",
        "- Train seti üzerinde basit analizler yapın (ortalama, sıklık, vs.).\n",
        "- Test seti üzerinde aynı analizleri tekrarlayın.\n",
        "- Sonuçları karşılaştırın ve kısa yorum ekleyin."
      ],
      "metadata": {
        "id": "XiMgC1sEBHc_"
      }
    },
    {
      "cell_type": "code",
      "source": [
        "import statistics\n",
        "import random\n",
        "\n",
        "# soruda sağlanan veriler\n",
        "kitaplar = [\n",
        "    {\"isim\": \"Veri Bilimi 101\", \"yazar\": \"Ali\", \"tur\": \"Bilim\", \"satis\": 1200, \"yil\": 2021},\n",
        "    {\"isim\": \"Python ile Yapay Zeka\", \"yazar\": \"Ayşe\", \"tur\": \"Bilim\", \"satis\": 950, \"yil\": 2020},\n",
        "    {\"isim\": \"İstatistik Temelleri\", \"yazar\": \"Ali\", \"tur\": \"Akademik\", \"satis\": 700, \"yil\": 2019},\n",
        "    {\"isim\": \"Makine Öğrenmesi\", \"yazar\": \"Can\", \"tur\": \"Bilim\", \"satis\": 1800, \"yil\": 2022},\n",
        "    {\"isim\": \"Veri Görselleştirme\", \"yazar\": \"Deniz\", \"tur\": \"Sanat\", \"satis\": 400, \"yil\": 2018},\n",
        "    {\"isim\": \"Matematiksel Modelleme\", \"yazar\": \"Ali\", \"tur\": \"Akademik\", \"satis\": 1500, \"yil\": 2021},\n",
        "    {\"isim\": \"Bilgi Toplumu\", \"yazar\": \"Ayşe\", \"tur\": \"Sosyal\", \"satis\": 600, \"yil\": 2022}\n",
        "]\n",
        "\n",
        "# 1. İstenen Fonksiyonları Oluşturma\n",
        "\n",
        "def en_cok_satan(kitaplar):\n",
        "    return max(kitaplar, key=lambda x: x[\"satis\"])\n",
        "\n",
        "def yazar_satislari(kitaplar):\n",
        "    satislar = {}\n",
        "    for k in kitaplar:\n",
        "        satislar[k[\"yazar\"]] = satislar.get(k[\"yazar\"], 0) + k[\"satis\"]\n",
        "    return satislar\n",
        "\n",
        "print(\"En çok satan kitap:\", en_cok_satan(kitaplar)[\"isim\"])\n",
        "print(\"Yazar satışları:\", yazar_satislari(kitaplar))\n",
        "\n",
        "\n",
        "# 2. Liste ve Küme İşlemleri\n",
        "\n",
        "turler = {k[\"tur\"] for k in kitaplar}\n",
        "bin_ustu = [k[\"isim\"] for k in kitaplar if k[\"satis\"] > 1000]\n",
        "\n",
        "print(\"Türler:\", turler)\n",
        "print(\"1000’den fazla satan kitaplar:\", bin_ustu)\n",
        "\n",
        "\n",
        "# 3. Lambda, Filter, Map İşlemleri\n",
        "\n",
        "# 2020’den sonra çıkan kitaplar\n",
        "sonrasi_2020 = list(filter(lambda k: k[\"yil\"] > 2020, kitaplar))\n",
        "\n",
        "# Satışları %10 artırma\n",
        "artisli_satislar = list(map(lambda k: k[\"satis\"] * 1.1, kitaplar))\n",
        "\n",
        "# Satışa göre azalan sıralama\n",
        "sirali = sorted(kitaplar, key=lambda k: k[\"satis\"], reverse=True)\n",
        "\n",
        "print(\"2020 sonrası çıkan kitaplar:\", [k[\"isim\"] for k in sonrasi_2020])\n",
        "print(\"Satışların %10 artırılmış hali:\", artisli_satislar)\n",
        "print(\"Satışa göre sıralama:\", [k[\"isim\"] for k in sirali])\n",
        "\n",
        "\n",
        "# 4. İstatistiksel Analiz\n",
        "\n",
        "satislar = [k[\"satis\"] for k in kitaplar]\n",
        "\n",
        "ortalama = statistics.mean(satislar)\n",
        "std_sapma = statistics.stdev(satislar)\n",
        "\n",
        "# En çok satış yapan tür\n",
        "tur_satislari = {}\n",
        "for k in kitaplar:\n",
        "    tur_satislari[k[\"tur\"]] = tur_satislari.get(k[\"tur\"], 0) + k[\"satis\"]\n",
        "\n",
        "en_cok_tur = max(tur_satislari, key=tur_satislari.get)\n",
        "\n",
        "print(\"Ortalama satış:\", ortalama)\n",
        "print(\"Standart sapma:\", std_sapma)\n",
        "print(\"En çok satış yapan tür:\", en_cok_tur)\n",
        "\n",
        "\n",
        "# 5. Train/Test Simülasyonu\n",
        "\n",
        "# %70 eğitim, %30 test olarak ayırma\n",
        "train_size = int(len(kitaplar) * 0.7)\n",
        "train = random.sample(kitaplar, train_size)\n",
        "test = [k for k in kitaplar if k not in train]\n",
        "\n",
        "# Eğitim seti: yazarların ortalama satışları\n",
        "train_satislar = [k[\"satis\"] for k in train]\n",
        "train_ortalama = statistics.mean(train_satislar)\n",
        "\n",
        "print(\"\\n--- Train/Test Analizi ---\")\n",
        "print(\"Train set kitapları:\", [k[\"isim\"] for k in train])\n",
        "print(\"Test set kitapları:\", [k[\"isim\"] for k in test])\n",
        "print(\"Train ortalama satış:\", train_ortalama)\n",
        "\n",
        "# Test setinde ortalamanın üzerinde satış yapanlar\n",
        "ustunde = [k[\"isim\"] for k in test if k[\"satis\"] > train_ortalama]\n",
        "print(\"Test setinde ortalamanın üzerinde olanlar:\", ustunde)\n"
      ],
      "metadata": {
        "colab": {
          "base_uri": "https://localhost:8080/"
        },
        "id": "u9qvhJ4_Bw3O",
        "outputId": "ba32a28e-2caa-4f8f-87ab-0b7c5157c76a"
      },
      "execution_count": 26,
      "outputs": [
        {
          "output_type": "stream",
          "name": "stdout",
          "text": [
            "En çok satan kitap: Makine Öğrenmesi\n",
            "Yazar satışları: {'Ali': 3400, 'Ayşe': 1550, 'Can': 1800, 'Deniz': 400}\n",
            "Türler: {'Sanat', 'Akademik', 'Bilim', 'Sosyal'}\n",
            "1000’den fazla satan kitaplar: ['Veri Bilimi 101', 'Makine Öğrenmesi', 'Matematiksel Modelleme']\n",
            "2020 sonrası çıkan kitaplar: ['Veri Bilimi 101', 'Makine Öğrenmesi', 'Matematiksel Modelleme', 'Bilgi Toplumu']\n",
            "Satışların %10 artırılmış hali: [1320.0, 1045.0, 770.0000000000001, 1980.0000000000002, 440.00000000000006, 1650.0000000000002, 660.0]\n",
            "Satışa göre sıralama: ['Makine Öğrenmesi', 'Matematiksel Modelleme', 'Veri Bilimi 101', 'Python ile Yapay Zeka', 'İstatistik Temelleri', 'Bilgi Toplumu', 'Veri Görselleştirme']\n",
            "Ortalama satış: 1021.4285714285714\n",
            "Standart sapma: 506.5053001179939\n",
            "En çok satış yapan tür: Bilim\n",
            "\n",
            "--- Train/Test Analizi ---\n",
            "Train set kitapları: ['Python ile Yapay Zeka', 'Matematiksel Modelleme', 'Bilgi Toplumu', 'Veri Görselleştirme']\n",
            "Test set kitapları: ['Veri Bilimi 101', 'İstatistik Temelleri', 'Makine Öğrenmesi']\n",
            "Train ortalama satış: 862.5\n",
            "Test setinde ortalamanın üzerinde olanlar: ['Veri Bilimi 101', 'Makine Öğrenmesi']\n"
          ]
        }
      ]
    }
  ]
}