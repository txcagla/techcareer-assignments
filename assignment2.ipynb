{
  "nbformat": 4,
  "nbformat_minor": 0,
  "metadata": {
    "colab": {
      "provenance": [],
      "authorship_tag": "ABX9TyMARFYY0CcFQgFt1EvCEPlr",
      "include_colab_link": true
    },
    "kernelspec": {
      "name": "python3",
      "display_name": "Python 3"
    },
    "language_info": {
      "name": "python"
    }
  },
  "cells": [
    {
      "cell_type": "markdown",
      "metadata": {
        "id": "view-in-github",
        "colab_type": "text"
      },
      "source": [
        "<a href=\"https://colab.research.google.com/github/txcagla/techcareer-assignments/blob/main/assignment2.ipynb\" target=\"_parent\"><img src=\"https://colab.research.google.com/assets/colab-badge.svg\" alt=\"Open In Colab\"/></a>"
      ]
    },
    {
      "cell_type": "markdown",
      "source": [
        "SORULAR"
      ],
      "metadata": {
        "id": "Abrq5K19wWvH"
      }
    },
    {
      "cell_type": "markdown",
      "source": [
        "Soru 1 : Sayı Analizi\n",
        "\n",
        "Kullanıcıdan bir sayı isteyin.\n",
        "- Sayı pozitif, negatif ya da sıfır mı kontrol edin.\n",
        "- Aynı zamanda tek/çift olup olmadığını da belirtin.\n",
        "- Çıktı örneği: \"Pozitif Çift\" veya \"Negatif Tek\" gibi."
      ],
      "metadata": {
        "id": "f3Jx3_IQ0zES"
      }
    },
    {
      "cell_type": "code",
      "execution_count": 34,
      "metadata": {
        "colab": {
          "base_uri": "https://localhost:8080/"
        },
        "id": "K3OuhDmMwL0Z",
        "outputId": "de8136fa-0f3e-4bef-f4c1-42158d7fe73b"
      },
      "outputs": [
        {
          "output_type": "stream",
          "name": "stdout",
          "text": [
            "bir sayı giriniz: 34\n",
            "pozitif çift\n"
          ]
        }
      ],
      "source": [
        "number = int(input('bir sayı giriniz: '))\n",
        "\n",
        "if number > 0:\n",
        "  if number % 2 == 0:\n",
        "    print('pozitif çift')\n",
        "  else:\n",
        "    print('pozitif tek')\n",
        "elif number == 0:\n",
        "  print('sıfır')\n",
        "else:\n",
        "  if number % 2 == 0:\n",
        "    print('negatif çift')\n",
        "  else:\n",
        "    print('neagtif tek')\n"
      ]
    },
    {
      "cell_type": "markdown",
      "source": [
        "Soru 2: Harf Frekansı (String)\n",
        "\n",
        "Kullanıcıdan bir kelime alın.\n",
        "- Hangi harften kaç tane geçtiğini bulun.\n",
        "- Sonucu dictionary olarak gösterin.\n",
        "\n",
        "Örnek: \"data\" → {'d': 1, 'a': 2, 't': 1}"
      ],
      "metadata": {
        "id": "9v7WD7lD16a4"
      }
    },
    {
      "cell_type": "code",
      "source": [
        "word = input('Bir kelime giriniz: ')\n",
        "\n",
        "frequency = {}\n",
        "\n",
        "for i in word:\n",
        "  if i in frequency:\n",
        "    frequency[i] += 1\n",
        "  else:\n",
        "    frequency[i] = 1\n",
        "\n",
        "print(frequency)"
      ],
      "metadata": {
        "colab": {
          "base_uri": "https://localhost:8080/"
        },
        "id": "0ej2AtVn2Axk",
        "outputId": "21ac14c0-30a6-4130-947d-4d871b30d1db"
      },
      "execution_count": 35,
      "outputs": [
        {
          "output_type": "stream",
          "name": "stdout",
          "text": [
            "Bir kelime giriniz: günaydın\n",
            "{'g': 1, 'ü': 1, 'n': 2, 'a': 1, 'y': 1, 'd': 1, 'ı': 1}\n"
          ]
        }
      ]
    },
    {
      "cell_type": "markdown",
      "source": [
        "Soru 3 – Şifre Kontrolü (String Metotları)\n",
        "\n",
        "Kullanıcıdan şifre girmesini isteyin. Şifre:\n",
        "- En az 8 karakter olmalı\n",
        "- En az 1 büyük harf içermeli\n",
        "- En az 1 rakam içermeli\n",
        "\n",
        "Koşulları sağlayıp sağlamadığına göre kullanıcıyı bilgilendirin."
      ],
      "metadata": {
        "id": "UIQAK_Dh26CG"
      }
    },
    {
      "cell_type": "code",
      "source": [
        "password = input('Bir şifre giriniz: ')\n",
        "\n",
        "length_condition = len(password) >= 8\n",
        "upper_case_condition = any(char.isupper() for char in password)\n",
        "digit_condition = any(char.isdigit() for char in password)\n",
        "\n",
        "if length_condition and upper_case_condition and digit_condition:\n",
        "  print('Geçerli şifre!')\n",
        "else:\n",
        "  print('Geçersiz şifre!')\n",
        "  if not length_condition:\n",
        "    print('Şifreniz en az 8 karakter içermelidir.')\n",
        "  if not upper_case_condition:\n",
        "    print('Şifreniz en az bir büyük harf içermelidir.')\n",
        "  if not digit_condition:\n",
        "    print('Şifreniz en az bir rakam içermelidir.')"
      ],
      "metadata": {
        "colab": {
          "base_uri": "https://localhost:8080/"
        },
        "id": "T6mySup12-Qh",
        "outputId": "9f3ceabf-54b6-4eec-cfa9-5d33e5b3a4b3"
      },
      "execution_count": 36,
      "outputs": [
        {
          "output_type": "stream",
          "name": "stdout",
          "text": [
            "Bir şifre giriniz: ödev1\n",
            "Geçersiz şifre!\n",
            "Şifreniz en az 8 karakter içermelidir.\n",
            "Şifreniz en az bir büyük harf içermelidir.\n"
          ]
        }
      ]
    },
    {
      "cell_type": "markdown",
      "source": [
        "Soru 4: Liste İşlemleri\n",
        "\n",
        "[12, 4, 9, 25, 30, 7, 18] listesini kullanın.\n",
        "- Listenin ortalamasını bulun.\n",
        "- Ortalamadan büyük sayıları ayrı bir listeye atın.\n",
        "- Sonucu ekrana yazdırın."
      ],
      "metadata": {
        "id": "Ognxfl7U5E_d"
      }
    },
    {
      "cell_type": "code",
      "source": [
        "my_list = [12, 4, 9, 25, 30, 7, 18]\n",
        "\n",
        "total = 0\n",
        "for i in my_list:\n",
        "  total += i\n",
        "avg = total / len(my_list)\n",
        "print('Listenin ortalaması: ', avg)\n",
        "\n",
        "greater_than_avg = []\n",
        "for i in my_list:\n",
        "  if i > avg:\n",
        "    greater_than_avg.append(i)\n",
        "print('Ortalamadan büyük sayılarla oluşturulan yeni liste: ', greater_than_avg)"
      ],
      "metadata": {
        "colab": {
          "base_uri": "https://localhost:8080/"
        },
        "id": "mWtU-qUk5JQN",
        "outputId": "c6bae818-1322-45da-a8f8-a6c66a01f825"
      },
      "execution_count": 37,
      "outputs": [
        {
          "output_type": "stream",
          "name": "stdout",
          "text": [
            "Listenin ortalaması:  15.0\n",
            "Ortalamadan büyük sayılarla oluşturulan yeni liste:  [25, 30, 18]\n"
          ]
        }
      ]
    },
    {
      "cell_type": "markdown",
      "source": [
        "Soru 5 – Nested Loop (Desen)\n",
        "\n",
        "Aşağıdaki çıktıyı üreten programı yazın (üçgen desen):\n",
        "\n",
        "\"*\"\n",
        "\n",
        "\"**\"\n",
        "\n",
        "\"***\"\n",
        "\n",
        "\"****\"\n",
        "\n",
        "\"*****\""
      ],
      "metadata": {
        "id": "-OfySSrV6b5l"
      }
    },
    {
      "cell_type": "code",
      "source": [
        "n = 5\n",
        "\n",
        "for i in range(1, n + 1):\n",
        "  print(\"*\" * i)"
      ],
      "metadata": {
        "colab": {
          "base_uri": "https://localhost:8080/"
        },
        "id": "Cir0w7ys6oZd",
        "outputId": "b1c9610d-aaa4-462c-b0ab-026e841fab8e"
      },
      "execution_count": 38,
      "outputs": [
        {
          "output_type": "stream",
          "name": "stdout",
          "text": [
            "*\n",
            "**\n",
            "***\n",
            "****\n",
            "*****\n"
          ]
        }
      ]
    },
    {
      "cell_type": "markdown",
      "source": [
        "Soru 6: While Döngüsü\n",
        "\n",
        "Kullanıcıdan sürekli sayı isteyin.\n",
        "- Kullanıcı 0 girdiğinde program dursun.\n",
        "- Girilen tüm sayıların toplamını ve ortalamasını yazdırın."
      ],
      "metadata": {
        "id": "pBjaAMLr7V02"
      }
    },
    {
      "cell_type": "code",
      "source": [
        "total = 0\n",
        "count = 0\n",
        "n = int(input('Bir sayı giriniz: '))\n",
        "\n",
        "while n != 0:\n",
        "  total += n\n",
        "  count += 1\n",
        "  n = int(input('Yeni bir sayı giriniz: '))\n",
        "\n",
        "if count > 0:\n",
        "  print('Girilen tüm sayıların toplamı: ', total)\n",
        "  print('Girilen sayıların ortalaması: ', total / count)\n",
        "else:\n",
        "  print('Sıfırdan farklı herhangi bir sayı girilmedi.')"
      ],
      "metadata": {
        "colab": {
          "base_uri": "https://localhost:8080/"
        },
        "id": "lPWNiaFc7Z4h",
        "outputId": "5ebd5023-f137-4613-bfca-df7792c7bb22"
      },
      "execution_count": 39,
      "outputs": [
        {
          "output_type": "stream",
          "name": "stdout",
          "text": [
            "Bir sayı giriniz: 15\n",
            "Yeni bir sayı giriniz: 43\n",
            "Yeni bir sayı giriniz: 2\n",
            "Yeni bir sayı giriniz: 61\n",
            "Yeni bir sayı giriniz: 0\n",
            "Girilen tüm sayıların toplamı:  121\n",
            "Girilen sayıların ortalaması:  30.25\n"
          ]
        }
      ]
    },
    {
      "cell_type": "markdown",
      "source": [
        "Soru 7: Palindrom Kontrolü\n",
        "\n",
        "Kullanıcıdan bir kelime isteyin.\n",
        "- Kelimenin palindrom olup olmadığını kontrol edin.\n",
        "- Örnek: \"kayak\" → Palindrom , \"python\" → Değil"
      ],
      "metadata": {
        "id": "zTGf6MLo-zLE"
      }
    },
    {
      "cell_type": "code",
      "source": [
        "word = input('Bir kelime giriniz: ')\n",
        "\n",
        "if word == word[::-1]:\n",
        "  print('Palindrom')\n",
        "else:\n",
        "  print('Değil')"
      ],
      "metadata": {
        "colab": {
          "base_uri": "https://localhost:8080/"
        },
        "id": "G1YQdwA4-5nZ",
        "outputId": "baa2ad42-dacb-4251-9b9e-195f77ab1473"
      },
      "execution_count": 40,
      "outputs": [
        {
          "output_type": "stream",
          "name": "stdout",
          "text": [
            "Bir kelime giriniz: kayak\n",
            "Palindrom\n"
          ]
        }
      ]
    },
    {
      "cell_type": "markdown",
      "source": [
        "Soru 8: List Comprehension\n",
        "\n",
        "1’den 100’e kadar olan sayılardan:\n",
        "- Hem 3’e hem 5’e bölünebilenlerin karelerini içeren bir liste oluşturun.\n",
        "- Sonucu ekrana yazdırın."
      ],
      "metadata": {
        "id": "kGC3TVol_PaU"
      }
    },
    {
      "cell_type": "code",
      "source": [
        "my_list = []\n",
        "for i in range(1, 101):\n",
        "  if i % 3 == 0 and i % 5 == 0:\n",
        "    my_list.append(i ** 2)\n",
        "\n",
        "print(my_list)\n"
      ],
      "metadata": {
        "colab": {
          "base_uri": "https://localhost:8080/"
        },
        "id": "FTRkepVI_TyW",
        "outputId": "b3d70c55-2afc-4ead-eee3-a78de6593608"
      },
      "execution_count": 41,
      "outputs": [
        {
          "output_type": "stream",
          "name": "stdout",
          "text": [
            "[225, 900, 2025, 3600, 5625, 8100]\n"
          ]
        }
      ]
    },
    {
      "cell_type": "markdown",
      "source": [
        "Soru 9: String İşlemleri\n",
        "\n",
        "Bir cümle alın.\n",
        "- Cümledeki kelimeleri split() ile ayırın.\n",
        "- Her kelimenin ilk harfini büyük yaparak yeni bir string oluşturun.\n",
        "- Örnek: \"python veri bilimi\" → \"Python Veri Bilimi\""
      ],
      "metadata": {
        "id": "P6BMVF-D_-RO"
      }
    },
    {
      "cell_type": "code",
      "source": [
        "sentence = input('Bir cümle yazınız: ')\n",
        "\n",
        "word_list = sentence.split()\n",
        "capitalized_words = []\n",
        "\n",
        "for word in word_list:\n",
        "  capitalized_words.append(word.capitalize())\n",
        "\n",
        "capitalized_sentence = ' '.join(capitalized_words)\n",
        "print(capitalized_sentence)"
      ],
      "metadata": {
        "colab": {
          "base_uri": "https://localhost:8080/"
        },
        "id": "zd94O1kuACVf",
        "outputId": "73972a24-6ed5-4dab-a1a2-5ce74f002c65"
      },
      "execution_count": 42,
      "outputs": [
        {
          "output_type": "stream",
          "name": "stdout",
          "text": [
            "Bir cümle yazınız: bugün çok güzel bir gün değil mi?\n",
            "Bugün Çok Güzel Bir Gün Değil Mi?\n"
          ]
        }
      ]
    },
    {
      "cell_type": "markdown",
      "source": [
        "Mini Proje: Film Yorumu Analizi\n",
        "\n",
        "Proje Tanımı:\n",
        "Kullanıcıdan birkaç film yorumu alın (örneğin 5–6 yorum).\n",
        "- Yorumları bir listeye atın.\n",
        "- Her yorumun uzunluğunu (karakter sayısı) bulun.\n",
        "- Kaç yorumda \"iyi\" kelimesi geçtiğini sayın.\n",
        "- En uzun yorumu ve en kısa yorumu ekrana yazdırın.\n",
        "- Tüm yorumların ortalama uzunluğunu hesaplayın."
      ],
      "metadata": {
        "id": "LL9HcGWVA7xe"
      }
    },
    {
      "cell_type": "code",
      "source": [
        "comments = []\n",
        "\n",
        "for i in range(5):\n",
        "  comment = input('Bir film yorumu giriniz: ')\n",
        "  comments.append(comment)\n",
        "print('Film yorumları: ', comments)\n",
        "\n",
        "comment_lengths = []\n",
        "for comment in comments:\n",
        "  comment_lengths.append(len(comment))\n",
        "print('Yorumların karakter sayıları: ', comment_lengths)\n",
        "\n",
        "iyi_count = 0\n",
        "for comment in comments:\n",
        "  if 'iyi' in comment.lower():\n",
        "    iyi_count += 1\n",
        "print(\"'iyi' kelimesi geçen yorum sayısı: \", iyi_count)\n",
        "\n",
        "max_len = max(comments, key=len)\n",
        "print('En uzun yorum: ', max_len)\n",
        "min_len = min(comments, key=len)\n",
        "print('En kısa yorum: ', min_len)\n",
        "\n",
        "avg_len = sum(comment_lengths) / len(comment_lengths)\n",
        "print('Yorumların ortalama uzunluğu: ', avg_len)\n"
      ],
      "metadata": {
        "colab": {
          "base_uri": "https://localhost:8080/"
        },
        "id": "rPHccMboBTt8",
        "outputId": "57771094-37f2-4de4-84e8-d5570b8fd984"
      },
      "execution_count": 43,
      "outputs": [
        {
          "output_type": "stream",
          "name": "stdout",
          "text": [
            "Bir film yorumu giriniz: bugüne kadar izlediğim en iyi filmdi\n",
            "Bir film yorumu giriniz: çok sıkıcıydı\n",
            "Bir film yorumu giriniz: ortalama bir filmdi\n",
            "Bir film yorumu giriniz: bu film çok güzel\n",
            "Bir film yorumu giriniz: bu film gerçekten bahsedilen kadar iyiymiş\n",
            "Film yorumları:  ['bugüne kadar izlediğim en iyi filmdi', 'çok sıkıcıydı', 'ortalama bir filmdi', 'bu film çok güzel', 'bu film gerçekten bahsedilen kadar iyiymiş']\n",
            "Yorumların karakter sayıları:  [36, 13, 19, 17, 42]\n",
            "'iyi' kelimesi geçen yorum sayısı:  2\n",
            "En uzun yorum:  bu film gerçekten bahsedilen kadar iyiymiş\n",
            "En kısa yorum:  çok sıkıcıydı\n",
            "Yorumların ortalama uzunluğu:  25.4\n"
          ]
        }
      ]
    }
  ]
}